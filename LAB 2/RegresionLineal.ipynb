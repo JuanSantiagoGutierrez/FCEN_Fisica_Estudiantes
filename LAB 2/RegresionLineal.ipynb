{
 "cells": [
  {
   "cell_type": "markdown",
   "metadata": {},
   "source": [
    "* REGRESION LINEAL PARA EL LAB 2"
   ]
  },
  {
   "cell_type": "code",
   "execution_count": null,
   "metadata": {},
   "outputs": [],
   "source": [
    "import numpy as np\n",
    "import matplotlib.pyplot as plt\n",
    "from scipy import stats\n",
    "datos = np.loadtxt(\"Archivos.dat\")   # Obtener los datos desde la grabaciones, formato \".csv\" (por comas) \"xslx\" (excel) \n",
    "datos_lin = np.log(datos[:,1])\n",
    "regresion = stats.lineregress(datos[:,0],datos_lin)\n",
    "plt.plot(datos[:,0],datos_lin,ls=\"\", marker = \" . \")\n",
    "plt.plot(datos[:,0],regresion.slope*datos[:,0]+regresion.intercept)\n",
    "plt.show()\n"
   ]
  }
 ],
 "metadata": {
  "kernelspec": {
   "display_name": "Python 3",
   "language": "python",
   "name": "python3"
  },
  "language_info": {
   "name": "python",
   "version": "3.12.1"
  }
 },
 "nbformat": 4,
 "nbformat_minor": 2
}
